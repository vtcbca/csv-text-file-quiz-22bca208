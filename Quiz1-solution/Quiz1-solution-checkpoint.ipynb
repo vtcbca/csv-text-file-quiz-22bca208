{
 "cells": [
  {
   "cell_type": "markdown",
   "id": "13eb1023",
   "metadata": {},
   "source": [
    "### Write a program to create \"intro.txt\" file. \n",
    "### Print only even number of row."
   ]
  },
  {
   "cell_type": "code",
   "execution_count": 1,
   "id": "6a055481",
   "metadata": {},
   "outputs": [],
   "source": [
    "import csv"
   ]
  },
  {
   "cell_type": "code",
   "execution_count": 11,
   "id": "478e7821",
   "metadata": {},
   "outputs": [
    {
     "name": "stdout",
     "output_type": "stream",
     "text": [
      "<_io.TextIOWrapper name='intro.txt' mode='w' encoding='cp1252'>\n"
     ]
    }
   ],
   "source": [
    "f=open('intro.txt','w',newline='')\n",
    "print(f)"
   ]
  },
  {
   "cell_type": "code",
   "execution_count": 12,
   "id": "40f7abe0",
   "metadata": {},
   "outputs": [],
   "source": [
    "w=csv.writer(f)"
   ]
  },
  {
   "cell_type": "code",
   "execution_count": 13,
   "id": "cf01c357",
   "metadata": {},
   "outputs": [],
   "source": [
    "intro=[\"Id\",\"Introduction\"]"
   ]
  },
  {
   "cell_type": "code",
   "execution_count": 14,
   "id": "74feb037",
   "metadata": {},
   "outputs": [
    {
     "data": {
      "text/plain": [
       "17"
      ]
     },
     "execution_count": 14,
     "metadata": {},
     "output_type": "execute_result"
    }
   ],
   "source": [
    "w.writerow(intro)"
   ]
  },
  {
   "cell_type": "code",
   "execution_count": 15,
   "id": "ae76c54f",
   "metadata": {},
   "outputs": [],
   "source": [
    "info=[['1','My Name Is Shruti Rane.'],['2','My Father Name Is Dipakbhai Rane.'],['3','My Mother Name Is Chitraben Rane.'],['4','I am Study In SYBCA.'],['5','My College Name Is VTCBCSR.'],['6','I Like To Travaling.'],['7','My City Name Vyara.']]"
   ]
  },
  {
   "cell_type": "code",
   "execution_count": 16,
   "id": "7d966f02",
   "metadata": {},
   "outputs": [],
   "source": [
    "w.writerows(info)"
   ]
  },
  {
   "cell_type": "code",
   "execution_count": 17,
   "id": "e0f85924",
   "metadata": {},
   "outputs": [],
   "source": [
    "f.close()"
   ]
  },
  {
   "cell_type": "code",
   "execution_count": 22,
   "id": "8a6d2392",
   "metadata": {},
   "outputs": [
    {
     "name": "stdout",
     "output_type": "stream",
     "text": [
      "['Id', 'Introduction']\n",
      "['1', 'My Name Is Shruti Rane.']\n",
      "['2', 'My Father Name Is Dipakbhai Rane.']\n",
      "['3', 'My Mother Name Is Chitraben Rane.']\n",
      "['4', 'I am Study In SYBCA.']\n",
      "['5', 'My College Name Is VTCBCSR.']\n",
      "['6', 'I Like To Travaling.']\n",
      "['7', 'My City Name Vyara.']\n"
     ]
    }
   ],
   "source": [
    "with open('intro.txt','r',newline='') as f:\n",
    "    txtobj=csv.reader(f)\n",
    "    for i in txtobj:\n",
    "        print(i)"
   ]
  },
  {
   "cell_type": "code",
   "execution_count": 31,
   "id": "6679f5d0",
   "metadata": {},
   "outputs": [
    {
     "name": "stdout",
     "output_type": "stream",
     "text": [
      "Id,Introduction\r\n",
      "\n",
      "2,My Father Name Is Dipakbhai Rane.\r\n",
      "\n",
      "4,I am Study In SYBCA.\r\n",
      "\n",
      "6,I Like To Travaling.\r\n",
      "\n"
     ]
    }
   ],
   "source": [
    "with open('intro.txt','r',newline='') as txt_obj:\n",
    "    data=txt_obj.readlines()[0::2]\n",
    "    for i in data:\n",
    "        print(i)"
   ]
  }
 ],
 "metadata": {
  "kernelspec": {
   "display_name": "Python 3 (ipykernel)",
   "language": "python",
   "name": "python3"
  },
  "language_info": {
   "codemirror_mode": {
    "name": "ipython",
    "version": 3
   },
   "file_extension": ".py",
   "mimetype": "text/x-python",
   "name": "python",
   "nbconvert_exporter": "python",
   "pygments_lexer": "ipython3",
   "version": "3.9.6"
  }
 },
 "nbformat": 4,
 "nbformat_minor": 5
}
